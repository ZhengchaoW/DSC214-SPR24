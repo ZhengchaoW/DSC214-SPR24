{
 "cells": [
  {
   "cell_type": "markdown",
   "metadata": {},
   "source": [
    "In this notebook, we see how to compute homology of the simplicial complex shown in class ![alt text](data/simplicialComplex.png)"
   ]
  },
  {
   "cell_type": "code",
   "execution_count": 9,
   "metadata": {},
   "outputs": [],
   "source": [
    "import gudhi as gd\n",
    "\n",
    "# Define the simplices of the simplicial complex\n",
    "# Each tuple represents a simplex, with the vertices labelled as integers\n",
    "simplices = [[1,2],[1,3],[2,3],[2,4],[3,4],[1,2,3]]"
   ]
  },
  {
   "cell_type": "markdown",
   "metadata": {},
   "source": [
    "We then create a Simplex Tree which is the data structure used to represent simplicial complexes in gudhi"
   ]
  },
  {
   "cell_type": "code",
   "execution_count": 10,
   "metadata": {},
   "outputs": [
    {
     "name": "stdout",
     "output_type": "stream",
     "text": [
      "([1], 0.0)\n",
      "([2], 0.0)\n",
      "([1, 2], 0.0)\n",
      "([3], 0.0)\n",
      "([1, 3], 0.0)\n",
      "([2, 3], 0.0)\n",
      "([1, 2, 3], 0.0)\n",
      "([4], 0.0)\n",
      "([2, 4], 0.0)\n",
      "([3, 4], 0.0)\n"
     ]
    }
   ],
   "source": [
    "st = gd.SimplexTree()\n",
    "\n",
    "# Insert simplices into the Simplex Tree\n",
    "for simplex in simplices:\n",
    "    st.insert(simplex)\n",
    "\n",
    "# Show the list of simplices\n",
    "st_gen = st.get_filtration()\n",
    "for splx in st_gen :\n",
    "    print(splx)"
   ]
  },
  {
   "cell_type": "markdown",
   "metadata": {},
   "source": [
    "Now we compute the homology, or more precisely, the Betti numbers"
   ]
  },
  {
   "cell_type": "code",
   "execution_count": 11,
   "metadata": {},
   "outputs": [
    {
     "name": "stdout",
     "output_type": "stream",
     "text": [
      "Homology groups:\n",
      "Dimension: 1, Birth: 0.0, Death: inf\n",
      "Dimension: 0, Birth: 0.0, Death: inf\n"
     ]
    }
   ],
   "source": [
    "\n",
    "diag = st.persistence(persistence_dim_max=1)\n",
    "\n",
    "# Display the homology groups\n",
    "print(\"Homology groups:\")\n",
    "for interval in diag:\n",
    "    print(f\"Dimension: {interval[0]}, Birth: {interval[1][0]}, Death: {interval[1][1]}\")\n"
   ]
  },
  {
   "cell_type": "markdown",
   "metadata": {},
   "source": [
    "Now let's try the hollow tetrahedron which is homeomorphic to a sphere."
   ]
  },
  {
   "cell_type": "code",
   "execution_count": 12,
   "metadata": {},
   "outputs": [
    {
     "name": "stdout",
     "output_type": "stream",
     "text": [
      "Homology groups:\n",
      "Dimension: 2, Birth: 0.0, Death: inf\n",
      "Dimension: 0, Birth: 0.0, Death: inf\n"
     ]
    }
   ],
   "source": [
    "simplices = [[1,2,3],[1,3,4],[2,3,4],[1,2,4]]\n",
    "st = gd.SimplexTree()\n",
    "\n",
    "# Insert simplices into the Simplex Tree\n",
    "for simplex in simplices:\n",
    "    st.insert(simplex)\n",
    "\n",
    "diag = st.persistence(persistence_dim_max=2)\n",
    "\n",
    "# Display the homology groups\n",
    "print(\"Homology groups:\")\n",
    "for interval in diag:\n",
    "    print(f\"Dimension: {interval[0]}, Birth: {interval[1][0]}, Death: {interval[1][1]}\")\n"
   ]
  }
 ],
 "metadata": {
  "kernelspec": {
   "display_name": "TDA",
   "language": "python",
   "name": "python3"
  },
  "language_info": {
   "codemirror_mode": {
    "name": "ipython",
    "version": 3
   },
   "file_extension": ".py",
   "mimetype": "text/x-python",
   "name": "python",
   "nbconvert_exporter": "python",
   "pygments_lexer": "ipython3",
   "version": "3.10.9"
  }
 },
 "nbformat": 4,
 "nbformat_minor": 2
}
